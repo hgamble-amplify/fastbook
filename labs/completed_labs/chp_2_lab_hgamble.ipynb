{
 "cells": [
  {
   "cell_type": "code",
   "execution_count": 1,
   "id": "4078a830-fbc5-408f-9859-9d66c521bfb9",
   "metadata": {},
   "outputs": [],
   "source": [
    "from fastbook import *\n",
    "from fastai.vision.widgets import *\n",
    "import os"
   ]
  },
  {
   "cell_type": "markdown",
   "id": "d1196359-840c-41c0-87e4-12d7bc1b87dc",
   "metadata": {},
   "source": [
    "First, we inspect the path at which our dataset on dog breeds is available."
   ]
  },
  {
   "cell_type": "code",
   "execution_count": 2,
   "id": "53ba47e5-1d10-49fc-ad70-0047e0bc6208",
   "metadata": {},
   "outputs": [
    {
     "data": {
      "text/plain": [
       "['n02097047-miniature_schnauzer',\n",
       " 'n02088238-basset',\n",
       " 'n02094114-Norfolk_terrier',\n",
       " 'n02088466-bloodhound',\n",
       " 'n02088364-beagle']"
      ]
     },
     "execution_count": 2,
     "metadata": {},
     "output_type": "execute_result"
    }
   ],
   "source": [
    "data_path = '/mnt/data/data_science/dog_imgs'\n",
    "os.listdir(data_path)"
   ]
  },
  {
   "cell_type": "markdown",
   "id": "f825d454-163f-4084-87a2-fd10638fe17b",
   "metadata": {},
   "source": [
    "We see that there are 5 directories, where each directory contains images for 1 dog breed. Our task will be to train a deep learning model to classify images based on their breed."
   ]
  }
 ],
 "metadata": {
  "kernelspec": {
   "display_name": "dl_learning",
   "language": "python",
   "name": "dl_learning"
  },
  "language_info": {
   "codemirror_mode": {
    "name": "ipython",
    "version": 3
   },
   "file_extension": ".py",
   "mimetype": "text/x-python",
   "name": "python",
   "nbconvert_exporter": "python",
   "pygments_lexer": "ipython3",
   "version": "3.8.10"
  }
 },
 "nbformat": 4,
 "nbformat_minor": 5
}
